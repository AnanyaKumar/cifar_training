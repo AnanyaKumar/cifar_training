{
 "cells": [
  {
   "cell_type": "code",
   "execution_count": 6,
   "metadata": {},
   "outputs": [
    {
     "data": {
      "text/plain": [
       "<module 'unlabeled_extrapolation.models.timm_model' from '/juice/scr/ananya/cifar_experiments/transfer_learning/unlabeled_extrapolation/models/timm_model.py'>"
      ]
     },
     "execution_count": 6,
     "metadata": {},
     "output_type": "execute_result"
    }
   ],
   "source": [
    "from unlabeled_extrapolation.models import bit_resnet, vit_model, timm_model\n",
    "from unlabeled_extrapolation.utils import utils\n",
    "import importlib\n",
    "import timm\n",
    "import torch\n",
    "importlib.reload(bit_resnet)\n",
    "importlib.reload(vit_model)\n",
    "importlib.reload(utils)\n",
    "importlib.reload(timm_model)"
   ]
  },
  {
   "cell_type": "code",
   "execution_count": 2,
   "metadata": {},
   "outputs": [],
   "source": [
    "def get_layers_freeze_test(model):\n",
    "    print('num params before freezing: ', utils.count_parameters(model, trainable=True))\n",
    "    print(model.get_layers()[1])\n",
    "    print(len(model.get_layers()))\n",
    "    for k in [1, 2, len(model.get_layers())]:\n",
    "        model.freeze_bottom_k(k=k)\n",
    "        print(f'num params after freezing {k}: {utils.count_parameters(model, trainable=True)}')\n"
   ]
  },
  {
   "cell_type": "code",
   "execution_count": 50,
   "metadata": {},
   "outputs": [
    {
     "name": "stdout",
     "output_type": "stream",
     "text": [
      "num params before freezing:  68256659\n",
      "('conv-block-0', Sequential(\n",
      "  (unit01): PreActBottleneck(\n",
      "    (gn1): GroupNorm(32, 64, eps=1e-05, affine=True)\n",
      "    (conv1): StdConv2d(64, 64, kernel_size=(1, 1), stride=(1, 1), bias=False)\n",
      "    (gn2): GroupNorm(32, 64, eps=1e-05, affine=True)\n",
      "    (conv2): StdConv2d(64, 64, kernel_size=(3, 3), stride=(1, 1), padding=(1, 1), bias=False)\n",
      "    (gn3): GroupNorm(32, 64, eps=1e-05, affine=True)\n",
      "    (conv3): StdConv2d(64, 256, kernel_size=(1, 1), stride=(1, 1), bias=False)\n",
      "    (relu): ReLU(inplace=True)\n",
      "    (downsample): StdConv2d(64, 256, kernel_size=(1, 1), stride=(1, 1), bias=False)\n",
      "  )\n",
      "  (unit02): PreActBottleneck(\n",
      "    (gn1): GroupNorm(32, 256, eps=1e-05, affine=True)\n",
      "    (conv1): StdConv2d(256, 64, kernel_size=(1, 1), stride=(1, 1), bias=False)\n",
      "    (gn2): GroupNorm(32, 64, eps=1e-05, affine=True)\n",
      "    (conv2): StdConv2d(64, 64, kernel_size=(3, 3), stride=(1, 1), padding=(1, 1), bias=False)\n",
      "    (gn3): GroupNorm(32, 64, eps=1e-05, affine=True)\n",
      "    (conv3): StdConv2d(64, 256, kernel_size=(1, 1), stride=(1, 1), bias=False)\n",
      "    (relu): ReLU(inplace=True)\n",
      "  )\n",
      "  (unit03): PreActBottleneck(\n",
      "    (gn1): GroupNorm(32, 256, eps=1e-05, affine=True)\n",
      "    (conv1): StdConv2d(256, 64, kernel_size=(1, 1), stride=(1, 1), bias=False)\n",
      "    (gn2): GroupNorm(32, 64, eps=1e-05, affine=True)\n",
      "    (conv2): StdConv2d(64, 64, kernel_size=(3, 3), stride=(1, 1), padding=(1, 1), bias=False)\n",
      "    (gn3): GroupNorm(32, 64, eps=1e-05, affine=True)\n",
      "    (conv3): StdConv2d(64, 256, kernel_size=(1, 1), stride=(1, 1), bias=False)\n",
      "    (relu): ReLU(inplace=True)\n",
      "  )\n",
      "))\n",
      "6\n",
      "num params after freezing 1: 68247251\n",
      "num params after freezing 2: 68032339\n",
      "num params after freezing 6: 0\n",
      "num params before freezing:  87248787\n",
      "('conv-block-0', Sequential(\n",
      "  (unit01): PreActBottleneck(\n",
      "    (gn1): GroupNorm(32, 64, eps=1e-05, affine=True)\n",
      "    (conv1): StdConv2d(64, 64, kernel_size=(1, 1), stride=(1, 1), bias=False)\n",
      "    (gn2): GroupNorm(32, 64, eps=1e-05, affine=True)\n",
      "    (conv2): StdConv2d(64, 64, kernel_size=(3, 3), stride=(1, 1), padding=(1, 1), bias=False)\n",
      "    (gn3): GroupNorm(32, 64, eps=1e-05, affine=True)\n",
      "    (conv3): StdConv2d(64, 256, kernel_size=(1, 1), stride=(1, 1), bias=False)\n",
      "    (relu): ReLU(inplace=True)\n",
      "    (downsample): StdConv2d(64, 256, kernel_size=(1, 1), stride=(1, 1), bias=False)\n",
      "  )\n",
      "  (unit02): PreActBottleneck(\n",
      "    (gn1): GroupNorm(32, 256, eps=1e-05, affine=True)\n",
      "    (conv1): StdConv2d(256, 64, kernel_size=(1, 1), stride=(1, 1), bias=False)\n",
      "    (gn2): GroupNorm(32, 64, eps=1e-05, affine=True)\n",
      "    (conv2): StdConv2d(64, 64, kernel_size=(3, 3), stride=(1, 1), padding=(1, 1), bias=False)\n",
      "    (gn3): GroupNorm(32, 64, eps=1e-05, affine=True)\n",
      "    (conv3): StdConv2d(64, 256, kernel_size=(1, 1), stride=(1, 1), bias=False)\n",
      "    (relu): ReLU(inplace=True)\n",
      "  )\n",
      "  (unit03): PreActBottleneck(\n",
      "    (gn1): GroupNorm(32, 256, eps=1e-05, affine=True)\n",
      "    (conv1): StdConv2d(256, 64, kernel_size=(1, 1), stride=(1, 1), bias=False)\n",
      "    (gn2): GroupNorm(32, 64, eps=1e-05, affine=True)\n",
      "    (conv2): StdConv2d(64, 64, kernel_size=(3, 3), stride=(1, 1), padding=(1, 1), bias=False)\n",
      "    (gn3): GroupNorm(32, 64, eps=1e-05, affine=True)\n",
      "    (conv3): StdConv2d(64, 256, kernel_size=(1, 1), stride=(1, 1), bias=False)\n",
      "    (relu): ReLU(inplace=True)\n",
      "  )\n",
      "))\n",
      "6\n",
      "num params after freezing 1: 87239379\n",
      "num params after freezing 2: 87024467\n",
      "num params after freezing 6: 0\n"
     ]
    }
   ],
   "source": [
    "# Bit-resnet (get layers) for ResNet-50 and ResNet-101\n",
    "\n",
    "resnet50_checkpoint_path = \"/u/scr/ananya/simclr_weights/BiT-M-R50x1.npz\"\n",
    "resnet50 = bit_resnet.BitResNet(model_name='BiT-M-R50x1', checkpoint_path=resnet50_checkpoint_path)\n",
    "get_layers_freeze_test(resnet50)\n",
    "\n",
    "resnet101_checkpoint_path = \"/u/scr/ananya/simclr_weights/BiT-M-R101x1.npz\"\n",
    "resnet101 = bit_resnet.BitResNet(model_name='BiT-M-R101x1', checkpoint_path=resnet101_checkpoint_path)\n",
    "get_layers_freeze_test(resnet101)"
   ]
  },
  {
   "cell_type": "code",
   "execution_count": 57,
   "metadata": {},
   "outputs": [
    {
     "name": "stderr",
     "output_type": "stream",
     "text": [
      "Downloading: \"https://github.com/facebookresearch/dino/archive/main.zip\" to /sailhome/ananya/.cache/torch/hub/main.zip\n"
     ]
    },
    {
     "name": "stdout",
     "output_type": "stream",
     "text": [
      "num params before freezing:  85806346\n",
      "('empty_ln_pre', Module())\n",
      "54\n",
      "1\n",
      "num params after freezing 1: 85215754\n",
      "2\n",
      "num params after freezing 2: 85215754\n",
      "54\n",
      "num params after freezing 54: 0\n"
     ]
    }
   ],
   "source": [
    "# DINO\n",
    "model = vit_model.VitModel(model_name='dino_vitb16')\n",
    "model.new_last_layer(10)\n",
    "get_layers_freeze_test(model)\n"
   ]
  },
  {
   "cell_type": "code",
   "execution_count": 48,
   "metadata": {},
   "outputs": [
    {
     "name": "stdout",
     "output_type": "stream",
     "text": [
      "num params before freezing:  22050664\n",
      "('empty_ln_pre', Module())\n",
      "54\n",
      "num params after freezing 1: 21755368\n",
      "num params after freezing 2: 21755368\n",
      "num params after freezing 54: 0\n"
     ]
    }
   ],
   "source": [
    "# Timm ViT-S\n",
    "model = vit_model.VitModel(model_name='timm.vit_small_patch16_224')\n",
    "get_layers_freeze_test(model)\n"
   ]
  },
  {
   "cell_type": "code",
   "execution_count": 3,
   "metadata": {},
   "outputs": [
    {
     "name": "stdout",
     "output_type": "stream",
     "text": [
      "num params before freezing:  109953489\n",
      "('stage0', ConvNeXtStage(\n",
      "  (downsample): Identity()\n",
      "  (blocks): Sequential(\n",
      "    (0): ConvNeXtBlock(\n",
      "      (conv_dw): Conv2d(128, 128, kernel_size=(7, 7), stride=(1, 1), padding=(3, 3), groups=128)\n",
      "      (norm): LayerNorm((128,), eps=1e-06, elementwise_affine=True)\n",
      "      (mlp): Mlp(\n",
      "        (fc1): Linear(in_features=128, out_features=512, bias=True)\n",
      "        (act): GELU()\n",
      "        (drop1): Dropout(p=0.0, inplace=False)\n",
      "        (fc2): Linear(in_features=512, out_features=128, bias=True)\n",
      "        (drop2): Dropout(p=0.0, inplace=False)\n",
      "      )\n",
      "      (drop_path): Identity()\n",
      "    )\n",
      "    (1): ConvNeXtBlock(\n",
      "      (conv_dw): Conv2d(128, 128, kernel_size=(7, 7), stride=(1, 1), padding=(3, 3), groups=128)\n",
      "      (norm): LayerNorm((128,), eps=1e-06, elementwise_affine=True)\n",
      "      (mlp): Mlp(\n",
      "        (fc1): Linear(in_features=128, out_features=512, bias=True)\n",
      "        (act): GELU()\n",
      "        (drop1): Dropout(p=0.0, inplace=False)\n",
      "        (fc2): Linear(in_features=512, out_features=128, bias=True)\n",
      "        (drop2): Dropout(p=0.0, inplace=False)\n",
      "      )\n",
      "      (drop_path): Identity()\n",
      "    )\n",
      "    (2): ConvNeXtBlock(\n",
      "      (conv_dw): Conv2d(128, 128, kernel_size=(7, 7), stride=(1, 1), padding=(3, 3), groups=128)\n",
      "      (norm): LayerNorm((128,), eps=1e-06, elementwise_affine=True)\n",
      "      (mlp): Mlp(\n",
      "        (fc1): Linear(in_features=128, out_features=512, bias=True)\n",
      "        (act): GELU()\n",
      "        (drop1): Dropout(p=0.0, inplace=False)\n",
      "        (fc2): Linear(in_features=512, out_features=128, bias=True)\n",
      "        (drop2): Dropout(p=0.0, inplace=False)\n",
      "      )\n",
      "      (drop_path): Identity()\n",
      "    )\n",
      "  )\n",
      "))\n",
      "7\n",
      "num params after freezing 1: 109946961\n",
      "num params after freezing 2: 109531473\n",
      "num params after freezing 7: 0\n"
     ]
    }
   ],
   "source": [
    "# Conv-next\n",
    "model = timm_model.TimmModel('convnext_base_in22k')\n",
    "get_layers_freeze_test(model)"
   ]
  },
  {
   "cell_type": "code",
   "execution_count": 9,
   "metadata": {},
   "outputs": [
    {
     "data": {
      "text/plain": [
       "tensor([[-2.1558,  0.1969, -2.2230,  ..., -2.2479,  0.7122,  0.2625],\n",
       "        [-2.1558,  0.1969, -2.2230,  ..., -2.2479,  0.7122,  0.2625],\n",
       "        [-2.1558,  0.1969, -2.2230,  ..., -2.2479,  0.7122,  0.2625],\n",
       "        ...,\n",
       "        [-2.1558,  0.1969, -2.2230,  ..., -2.2479,  0.7122,  0.2625],\n",
       "        [-2.1558,  0.1969, -2.2230,  ..., -2.2479,  0.7122,  0.2625],\n",
       "        [-2.1558,  0.1969, -2.2230,  ..., -2.2479,  0.7122,  0.2625]],\n",
       "       device='cuda:0')"
      ]
     },
     "execution_count": 9,
     "metadata": {},
     "output_type": "execute_result"
    }
   ],
   "source": [
    "x = torch.zeros((8,3,224,224))\n",
    "x = x.cuda()\n",
    "model(x)"
   ]
  },
  {
   "cell_type": "code",
   "execution_count": 10,
   "metadata": {},
   "outputs": [
    {
     "name": "stdout",
     "output_type": "stream",
     "text": [
      "Sequential(\n",
      "  (global_pool): SelectAdaptivePool2d (pool_type=avg, flatten=Identity())\n",
      "  (norm): LayerNorm2d((1024,), eps=1e-06, elementwise_affine=True)\n",
      "  (flatten): Flatten(start_dim=1, end_dim=-1)\n",
      "  (drop): Dropout(p=0.0, inplace=False)\n",
      "  (fc): Linear(in_features=1024, out_features=21841, bias=True)\n",
      ")\n"
     ]
    }
   ],
   "source": [
    "print(model._model.head)"
   ]
  },
  {
   "cell_type": "code",
   "execution_count": null,
   "metadata": {},
   "outputs": [],
   "source": []
  }
 ],
 "metadata": {
  "kernelspec": {
   "display_name": "Python 3",
   "language": "python",
   "name": "python3"
  },
  "language_info": {
   "codemirror_mode": {
    "name": "ipython",
    "version": 3
   },
   "file_extension": ".py",
   "mimetype": "text/x-python",
   "name": "python",
   "nbconvert_exporter": "python",
   "pygments_lexer": "ipython3",
   "version": "3.8.5"
  }
 },
 "nbformat": 4,
 "nbformat_minor": 4
}
