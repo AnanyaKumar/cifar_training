{
 "cells": [
  {
   "cell_type": "code",
   "execution_count": 1,
   "metadata": {},
   "outputs": [
    {
     "data": {
      "text/plain": [
       "<module 'unlabeled_extrapolation.utils.utils' from '/juice/scr/ananya/cifar_experiments/transfer_learning/unlabeled_extrapolation/utils/utils.py'>"
      ]
     },
     "execution_count": 1,
     "metadata": {},
     "output_type": "execute_result"
    }
   ],
   "source": [
    "from unlabeled_extrapolation.models import bit_resnet, vit_model\n",
    "from unlabeled_extrapolation.utils import utils\n",
    "import importlib\n",
    "importlib.reload(bit_resnet)\n",
    "importlib.reload(vit_model)\n",
    "importlib.reload(utils)"
   ]
  },
  {
   "cell_type": "code",
   "execution_count": 2,
   "metadata": {},
   "outputs": [],
   "source": [
    "def get_layers_freeze_test(model):\n",
    "    print('num params before freezing: ', utils.count_parameters(model, trainable=True))\n",
    "    print(model.get_layers()[1])\n",
    "    print(len(model.get_layers()))\n",
    "    model.freeze_bottom_k(k=1)\n",
    "    print('num params after freezing 1: ', utils.count_parameters(model, trainable=True))\n",
    "    model.freeze_bottom_k(k=2)\n",
    "    print('num params after freezing 2: ', utils.count_parameters(model, trainable=True))"
   ]
  },
  {
   "cell_type": "code",
   "execution_count": 3,
   "metadata": {},
   "outputs": [
    {
     "name": "stdout",
     "output_type": "stream",
     "text": [
      "num params before freezing:  68256659\n",
      "('conv-block-0', Sequential(\n",
      "  (unit01): PreActBottleneck(\n",
      "    (gn1): GroupNorm(32, 64, eps=1e-05, affine=True)\n",
      "    (conv1): StdConv2d(64, 64, kernel_size=(1, 1), stride=(1, 1), bias=False)\n",
      "    (gn2): GroupNorm(32, 64, eps=1e-05, affine=True)\n",
      "    (conv2): StdConv2d(64, 64, kernel_size=(3, 3), stride=(1, 1), padding=(1, 1), bias=False)\n",
      "    (gn3): GroupNorm(32, 64, eps=1e-05, affine=True)\n",
      "    (conv3): StdConv2d(64, 256, kernel_size=(1, 1), stride=(1, 1), bias=False)\n",
      "    (relu): ReLU(inplace=True)\n",
      "    (downsample): StdConv2d(64, 256, kernel_size=(1, 1), stride=(1, 1), bias=False)\n",
      "  )\n",
      "  (unit02): PreActBottleneck(\n",
      "    (gn1): GroupNorm(32, 256, eps=1e-05, affine=True)\n",
      "    (conv1): StdConv2d(256, 64, kernel_size=(1, 1), stride=(1, 1), bias=False)\n",
      "    (gn2): GroupNorm(32, 64, eps=1e-05, affine=True)\n",
      "    (conv2): StdConv2d(64, 64, kernel_size=(3, 3), stride=(1, 1), padding=(1, 1), bias=False)\n",
      "    (gn3): GroupNorm(32, 64, eps=1e-05, affine=True)\n",
      "    (conv3): StdConv2d(64, 256, kernel_size=(1, 1), stride=(1, 1), bias=False)\n",
      "    (relu): ReLU(inplace=True)\n",
      "  )\n",
      "  (unit03): PreActBottleneck(\n",
      "    (gn1): GroupNorm(32, 256, eps=1e-05, affine=True)\n",
      "    (conv1): StdConv2d(256, 64, kernel_size=(1, 1), stride=(1, 1), bias=False)\n",
      "    (gn2): GroupNorm(32, 64, eps=1e-05, affine=True)\n",
      "    (conv2): StdConv2d(64, 64, kernel_size=(3, 3), stride=(1, 1), padding=(1, 1), bias=False)\n",
      "    (gn3): GroupNorm(32, 64, eps=1e-05, affine=True)\n",
      "    (conv3): StdConv2d(64, 256, kernel_size=(1, 1), stride=(1, 1), bias=False)\n",
      "    (relu): ReLU(inplace=True)\n",
      "  )\n",
      "))\n",
      "6\n",
      "num params after freezing 1:  68247251\n",
      "num params after freezing 2:  68032339\n",
      "num params before freezing:  87248787\n",
      "('conv-block-0', Sequential(\n",
      "  (unit01): PreActBottleneck(\n",
      "    (gn1): GroupNorm(32, 64, eps=1e-05, affine=True)\n",
      "    (conv1): StdConv2d(64, 64, kernel_size=(1, 1), stride=(1, 1), bias=False)\n",
      "    (gn2): GroupNorm(32, 64, eps=1e-05, affine=True)\n",
      "    (conv2): StdConv2d(64, 64, kernel_size=(3, 3), stride=(1, 1), padding=(1, 1), bias=False)\n",
      "    (gn3): GroupNorm(32, 64, eps=1e-05, affine=True)\n",
      "    (conv3): StdConv2d(64, 256, kernel_size=(1, 1), stride=(1, 1), bias=False)\n",
      "    (relu): ReLU(inplace=True)\n",
      "    (downsample): StdConv2d(64, 256, kernel_size=(1, 1), stride=(1, 1), bias=False)\n",
      "  )\n",
      "  (unit02): PreActBottleneck(\n",
      "    (gn1): GroupNorm(32, 256, eps=1e-05, affine=True)\n",
      "    (conv1): StdConv2d(256, 64, kernel_size=(1, 1), stride=(1, 1), bias=False)\n",
      "    (gn2): GroupNorm(32, 64, eps=1e-05, affine=True)\n",
      "    (conv2): StdConv2d(64, 64, kernel_size=(3, 3), stride=(1, 1), padding=(1, 1), bias=False)\n",
      "    (gn3): GroupNorm(32, 64, eps=1e-05, affine=True)\n",
      "    (conv3): StdConv2d(64, 256, kernel_size=(1, 1), stride=(1, 1), bias=False)\n",
      "    (relu): ReLU(inplace=True)\n",
      "  )\n",
      "  (unit03): PreActBottleneck(\n",
      "    (gn1): GroupNorm(32, 256, eps=1e-05, affine=True)\n",
      "    (conv1): StdConv2d(256, 64, kernel_size=(1, 1), stride=(1, 1), bias=False)\n",
      "    (gn2): GroupNorm(32, 64, eps=1e-05, affine=True)\n",
      "    (conv2): StdConv2d(64, 64, kernel_size=(3, 3), stride=(1, 1), padding=(1, 1), bias=False)\n",
      "    (gn3): GroupNorm(32, 64, eps=1e-05, affine=True)\n",
      "    (conv3): StdConv2d(64, 256, kernel_size=(1, 1), stride=(1, 1), bias=False)\n",
      "    (relu): ReLU(inplace=True)\n",
      "  )\n",
      "))\n",
      "6\n",
      "num params after freezing 1:  87239379\n",
      "num params after freezing 2:  87024467\n"
     ]
    }
   ],
   "source": [
    "# Bit-resnet (get layers) for ResNet-50 and ResNet-101\n",
    "\n",
    "resnet50_checkpoint_path = \"/u/scr/ananya/simclr_weights/BiT-M-R50x1.npz\"\n",
    "resnet50 = bit_resnet.BitResNet(model_name='BiT-M-R50x1', checkpoint_path=resnet50_checkpoint_path)\n",
    "get_layers_freeze_test(resnet50)\n",
    "\n",
    "resnet101_checkpoint_path = \"/u/scr/ananya/simclr_weights/BiT-M-R101x1.npz\"\n",
    "resnet101 = bit_resnet.BitResNet(model_name='BiT-M-R101x1', checkpoint_path=resnet101_checkpoint_path)\n",
    "get_layers_freeze_test(resnet101)"
   ]
  },
  {
   "cell_type": "code",
   "execution_count": 4,
   "metadata": {},
   "outputs": [
    {
     "name": "stderr",
     "output_type": "stream",
     "text": [
      "Downloading: \"https://github.com/facebookresearch/dino/archive/main.zip\" to /sailhome/ananya/.cache/torch/hub/main.zip\n"
     ]
    },
    {
     "name": "stdout",
     "output_type": "stream",
     "text": [
      "num params before freezing:  85798656\n",
      "('empty_ln_pre', Module())\n",
      "54\n",
      "num params after freezing 1:  85208064\n",
      "num params after freezing 2:  85208064\n"
     ]
    }
   ],
   "source": [
    "# DINO\n",
    "model = vit_model.VitModel(model_name='dino_vitb16')\n",
    "get_layers_freeze_test(model)"
   ]
  },
  {
   "cell_type": "code",
   "execution_count": 5,
   "metadata": {},
   "outputs": [
    {
     "name": "stdout",
     "output_type": "stream",
     "text": [
      "num params before freezing:  22050664\n",
      "('empty_ln_pre', Module())\n",
      "54\n",
      "num params after freezing 1:  21755368\n",
      "num params after freezing 2:  21755368\n"
     ]
    }
   ],
   "source": [
    "# Timm ViT-S\n",
    "model = vit_model.VitModel(model_name='timm.vit_small_patch16_224')\n",
    "get_layers_freeze_test(model)"
   ]
  },
  {
   "cell_type": "code",
   "execution_count": null,
   "metadata": {},
   "outputs": [],
   "source": [
    "# Conv-next\n",
    "\n"
   ]
  },
  {
   "cell_type": "code",
   "execution_count": null,
   "metadata": {},
   "outputs": [],
   "source": []
  }
 ],
 "metadata": {
  "kernelspec": {
   "display_name": "Python 3",
   "language": "python",
   "name": "python3"
  },
  "language_info": {
   "codemirror_mode": {
    "name": "ipython",
    "version": 3
   },
   "file_extension": ".py",
   "mimetype": "text/x-python",
   "name": "python",
   "nbconvert_exporter": "python",
   "pygments_lexer": "ipython3",
   "version": "3.8.5"
  }
 },
 "nbformat": 4,
 "nbformat_minor": 4
}
