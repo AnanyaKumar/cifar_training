{
 "cells": [
  {
   "cell_type": "code",
   "execution_count": 1,
   "metadata": {},
   "outputs": [
    {
     "data": {
      "text/plain": [
       "<module 'summarize_all_results' from '/juice/scr/ananya/cifar_experiments/transfer_learning/scripts/summarize_all_results.py'>"
      ]
     },
     "execution_count": 1,
     "metadata": {},
     "output_type": "execute_result"
    }
   ],
   "source": [
    "import numpy as np\n",
    "import summarize_all_results\n",
    "import importlib\n",
    "importlib.reload(summarize_all_results)"
   ]
  },
  {
   "cell_type": "code",
   "execution_count": 2,
   "metadata": {},
   "outputs": [],
   "source": [
    "\n",
    "def get_table(log_dir, name_template, models, options, datasets, output_metrics_list, val_metric_list=None, aggregation_metric_list=None):\n",
    "    table = np.zeros((len(models), len(options), sum([len(ol) for ol in output_metrics_list])))\n",
    "    for model_idx, model in enumerate(models):\n",
    "        for option_idx, option in enumerate(options):\n",
    "            cur_results = []\n",
    "            for dataset_idx, dataset in enumerate(datasets):\n",
    "                dir_path = log_dir + '/' + name_template.format(model=model, option=option, dataset=dataset)\n",
    "                output_metrics = output_metrics_list[dataset_idx]\n",
    "                if val_metric_list is None:\n",
    "                    val_metric = 'LAST'\n",
    "                else:\n",
    "                    val_metric = val_metric_list[dataset_idx]\n",
    "                if aggregation_metric_list is None:\n",
    "                    agg_metric = val_metric\n",
    "                else:\n",
    "                    agg_metric = aggregation_metric_list[dataset_idx]\n",
    "                _, best_row_mean, best_row_std = summarize_all_results.get_experiment_aggregate_summary(\n",
    "                    dir_path, val_metric, output_metrics, aggregation_metric=agg_metric)\n",
    "                cur_results.append(best_row_mean.to_numpy()[0,:-2])\n",
    "            cur_results = np.concatenate(cur_results)\n",
    "            table[model_idx][option_idx] = cur_results\n",
    "    return table\n",
    "\n",
    "# Add table to make TSV and Latex tables.\n",
    "def display_tsv_table(models, options, shortened_output_metrics_list, table, std_err_table=None):\n",
    "    first_line = '\\t\\t' + '\\t'.join(shortened_output_metrics_list)\n",
    "    print(first_line)\n",
    "    for model_idx, model in enumerate(models):\n",
    "        for option_idx, option in enumerate(options):\n",
    "            line = model + '\\t' + option\n",
    "            for idx, val in enumerate(table[model_idx][option_idx]):\n",
    "                line += '\\t' + '{:.1f}'.format(val)\n",
    "                if std_err_table is not None:\n",
    "                    line += ' ({:.1f})'.format(std_err_table[model_idx][option_idx])\n",
    "            print(line)"
   ]
  },
  {
   "cell_type": "code",
   "execution_count": 3,
   "metadata": {},
   "outputs": [],
   "source": [
    "log_dir = '../logs/'\n",
    "name_template = 'full_ft_{option}{dataset}_{model}'\n",
    "models = ['clip_vit_b16', 'timm_vit_b16_in21k', 'dino_vit_b16', 'bit_resnet_50_in21k', 'bit_resnet_101_in21k', 'convnext_vit_b', 'clip_resnet50', 'clip_vit_l14']\n",
    "options = ['', 'opt_torch.optim.AdamW_', 'freeze_bottom_2_', 'freeze_bottom_2_opt_torch.optim.AdamW_']\n",
    "datasets = ['living17_nonorm', 'waterbirds', 'domainnet']\n",
    "output_metrics_list = [['test_acc/source_val_living', 'test_acc/target_val_living'], ['WATERBIRDS_VAL', 'WORST'], ['test_acc/sketch_val', 'test_acc/real_val']]\n",
    "val_metric_list = ['LAST', 'LAST', 'LAST']\n",
    "aggregation_metric_list = ['test_acc/source_val_living', 'WATERBIRDS_VAL', 'test_acc/sketch_val']"
   ]
  },
  {
   "cell_type": "code",
   "execution_count": 34,
   "metadata": {},
   "outputs": [],
   "source": [
    "table = get_table(log_dir, name_template, models, options, datasets, output_metrics_list, val_metric_list, aggregation_metric_list)"
   ]
  },
  {
   "cell_type": "code",
   "execution_count": 5,
   "metadata": {},
   "outputs": [
    {
     "name": "stdout",
     "output_type": "stream",
     "text": [
      "\t\tLiving-17 ID\tLiving-17 OOD\tWaterbirds ID\tWaterbirds OOD\tDomainNet ID\tDomainNet OOD\n",
      "CLIP ViT-B/16\tSGD\t71.2\t56.5\t76.8\t0.0\t9.0\t6.0\n",
      "CLIP ViT-B/16\tAdamW\t74.5\t63.6\t76.8\t0.0\t9.1\t6.4\n"
     ]
    },
    {
     "ename": "IndexError",
     "evalue": "index 2 is out of bounds for axis 0 with size 2",
     "output_type": "error",
     "traceback": [
      "\u001b[0;31m---------------------------------------------------------------------------\u001b[0m",
      "\u001b[0;31mIndexError\u001b[0m                                Traceback (most recent call last)",
      "\u001b[0;32m<ipython-input-5-42f64f1c6e1e>\u001b[0m in \u001b[0;36m<module>\u001b[0;34m\u001b[0m\n\u001b[1;32m      2\u001b[0m \u001b[0mshortened_options_names\u001b[0m \u001b[0;34m=\u001b[0m \u001b[0;34m[\u001b[0m\u001b[0;34m'SGD'\u001b[0m\u001b[0;34m,\u001b[0m \u001b[0;34m'AdamW'\u001b[0m\u001b[0;34m,\u001b[0m \u001b[0;34m'SGD (Freeze-2)'\u001b[0m\u001b[0;34m,\u001b[0m \u001b[0;34m'AdamW (Freeze-2)'\u001b[0m\u001b[0;34m]\u001b[0m\u001b[0;34m\u001b[0m\u001b[0;34m\u001b[0m\u001b[0m\n\u001b[1;32m      3\u001b[0m \u001b[0mshortened_output_metrics_list\u001b[0m \u001b[0;34m=\u001b[0m \u001b[0;34m[\u001b[0m\u001b[0;34m'Living-17 ID'\u001b[0m\u001b[0;34m,\u001b[0m \u001b[0;34m'Living-17 OOD'\u001b[0m\u001b[0;34m,\u001b[0m \u001b[0;34m'Waterbirds ID'\u001b[0m\u001b[0;34m,\u001b[0m \u001b[0;34m'Waterbirds OOD'\u001b[0m\u001b[0;34m,\u001b[0m \u001b[0;34m'DomainNet ID'\u001b[0m\u001b[0;34m,\u001b[0m \u001b[0;34m'DomainNet OOD'\u001b[0m\u001b[0;34m]\u001b[0m\u001b[0;34m\u001b[0m\u001b[0;34m\u001b[0m\u001b[0m\n\u001b[0;32m----> 4\u001b[0;31m \u001b[0mdisplay_tsv_table\u001b[0m\u001b[0;34m(\u001b[0m\u001b[0mshorted_model_names\u001b[0m\u001b[0;34m,\u001b[0m \u001b[0mshortened_options_names\u001b[0m\u001b[0;34m,\u001b[0m \u001b[0mshortened_output_metrics_list\u001b[0m\u001b[0;34m,\u001b[0m \u001b[0mtable\u001b[0m\u001b[0;34m)\u001b[0m\u001b[0;34m\u001b[0m\u001b[0;34m\u001b[0m\u001b[0m\n\u001b[0m",
      "\u001b[0;32m<ipython-input-2-0ab79d4ba064>\u001b[0m in \u001b[0;36mdisplay_tsv_table\u001b[0;34m(models, options, shortened_output_metrics_list, table, std_err_table)\u001b[0m\n\u001b[1;32m     29\u001b[0m         \u001b[0;32mfor\u001b[0m \u001b[0moption_idx\u001b[0m\u001b[0;34m,\u001b[0m \u001b[0moption\u001b[0m \u001b[0;32min\u001b[0m \u001b[0menumerate\u001b[0m\u001b[0;34m(\u001b[0m\u001b[0moptions\u001b[0m\u001b[0;34m)\u001b[0m\u001b[0;34m:\u001b[0m\u001b[0;34m\u001b[0m\u001b[0;34m\u001b[0m\u001b[0m\n\u001b[1;32m     30\u001b[0m             \u001b[0mline\u001b[0m \u001b[0;34m=\u001b[0m \u001b[0mmodel\u001b[0m \u001b[0;34m+\u001b[0m \u001b[0;34m'\\t'\u001b[0m \u001b[0;34m+\u001b[0m \u001b[0moption\u001b[0m\u001b[0;34m\u001b[0m\u001b[0;34m\u001b[0m\u001b[0m\n\u001b[0;32m---> 31\u001b[0;31m             \u001b[0;32mfor\u001b[0m \u001b[0midx\u001b[0m\u001b[0;34m,\u001b[0m \u001b[0mval\u001b[0m \u001b[0;32min\u001b[0m \u001b[0menumerate\u001b[0m\u001b[0;34m(\u001b[0m\u001b[0mtable\u001b[0m\u001b[0;34m[\u001b[0m\u001b[0mmodel_idx\u001b[0m\u001b[0;34m]\u001b[0m\u001b[0;34m[\u001b[0m\u001b[0moption_idx\u001b[0m\u001b[0;34m]\u001b[0m\u001b[0;34m)\u001b[0m\u001b[0;34m:\u001b[0m\u001b[0;34m\u001b[0m\u001b[0;34m\u001b[0m\u001b[0m\n\u001b[0m\u001b[1;32m     32\u001b[0m                 \u001b[0mline\u001b[0m \u001b[0;34m+=\u001b[0m \u001b[0;34m'\\t'\u001b[0m \u001b[0;34m+\u001b[0m \u001b[0;34m'{:.1f}'\u001b[0m\u001b[0;34m.\u001b[0m\u001b[0mformat\u001b[0m\u001b[0;34m(\u001b[0m\u001b[0mval\u001b[0m\u001b[0;34m)\u001b[0m\u001b[0;34m\u001b[0m\u001b[0;34m\u001b[0m\u001b[0m\n\u001b[1;32m     33\u001b[0m                 \u001b[0;32mif\u001b[0m \u001b[0mstd_err_table\u001b[0m \u001b[0;32mis\u001b[0m \u001b[0;32mnot\u001b[0m \u001b[0;32mNone\u001b[0m\u001b[0;34m:\u001b[0m\u001b[0;34m\u001b[0m\u001b[0;34m\u001b[0m\u001b[0m\n",
      "\u001b[0;31mIndexError\u001b[0m: index 2 is out of bounds for axis 0 with size 2"
     ]
    }
   ],
   "source": [
    "shorted_model_names = ['CLIP ViT-B/16', 'Sup ViT-B/16', 'DINO ViT-B/16', 'BIT ResNet-50', 'BIT ResNet-101', 'ConvNext-Base', 'CLIP ResNet-50', 'CLIP ViT-L/14']\n",
    "shortened_options_names = ['SGD', 'AdamW', 'SGD (Freeze-2)', 'AdamW (Freeze-2)']\n",
    "shortened_output_metrics_list = ['Living-17 ID', 'Living-17 OOD', 'Waterbirds ID', 'Waterbirds OOD', 'DomainNet ID', 'DomainNet OOD']\n",
    "display_tsv_table(shorted_model_names, shortened_options_names, shortened_output_metrics_list, table)"
   ]
  },
  {
   "cell_type": "code",
   "execution_count": 36,
   "metadata": {},
   "outputs": [
    {
     "name": "stdout",
     "output_type": "stream",
     "text": [
      "\t\tLiving-17 ID\tLiving-17 OOD\tWaterbirds ID\tWaterbirds OOD\tDomainNet ID\tDomainNet OOD\n",
      "CLIP ViT-B/16\tSGD\t97.8\t81.4\t97.3\t61.7\t89.6\t74.3\n",
      "CLIP ViT-B/16\tAdamW\t98.1\t81.5\t97.9\t69.3\t95.0\t90.6\n",
      "CLIP ViT-B/16\tSGD (Freeze-2)\t98.1\t80.7\t97.9\t73.1\t95.2\t89.0\n",
      "CLIP ViT-B/16\tAdamW (Freeze-2)\t98.3\t82.4\t97.8\t69.5\t95.3\t88.2\n",
      "Sup ViT-B/16\tSGD\t98.6\t89.5\t99.1\t77.4\t91.7\t86.3\n",
      "Sup ViT-B/16\tAdamW\t98.7\t88.3\t99.0\t81.6\t91.7\t84.4\n",
      "Sup ViT-B/16\tSGD (Freeze-2)\t98.7\t88.0\t99.2\t82.4\t91.5\t86.3\n",
      "Sup ViT-B/16\tAdamW (Freeze-2)\t98.6\t88.1\t99.0\t82.4\t90.9\t82.3\n",
      "DINO ViT-B/16\tSGD\t98.4\t88.2\t97.0\t56.1\t88.2\t76.0\n",
      "DINO ViT-B/16\tAdamW\t98.5\t87.4\t97.9\t61.2\t89.4\t77.4\n",
      "DINO ViT-B/16\tSGD (Freeze-2)\t98.4\t86.7\t97.5\t67.9\t89.0\t78.4\n",
      "DINO ViT-B/16\tAdamW (Freeze-2)\t98.4\t86.8\t97.8\t64.5\t89.7\t76.6\n",
      "BIT ResNet-50\tSGD\t97.4\t84.3\t98.4\t76.5\t89.3\t80.0\n",
      "BIT ResNet-50\tAdamW\t97.2\t83.1\t98.5\t74.8\t89.2\t84.0\n",
      "BIT ResNet-50\tSGD (Freeze-2)\t97.6\t84.1\t98.5\t75.5\t89.2\t82.3\n",
      "BIT ResNet-50\tAdamW (Freeze-2)\t97.4\t82.9\t98.4\t77.3\t89.1\t83.3\n",
      "BIT ResNet-101\tSGD\t98.3\t82.8\t98.9\t76.9\t92.0\t86.2\n",
      "BIT ResNet-101\tAdamW\t98.4\t82.9\t98.6\t79.4\t91.1\t83.5\n",
      "BIT ResNet-101\tSGD (Freeze-2)\t98.4\t83.1\t98.8\t77.3\t91.5\t86.0\n",
      "BIT ResNet-101\tAdamW (Freeze-2)\t98.2\t84.8\t98.7\t78.3\t91.1\t84.3\n",
      "ConvNext-Base\tSGD\t98.7\t94.0\t99.0\t80.2\t94.8\t89.8\n",
      "ConvNext-Base\tAdamW\t98.6\t90.3\t99.5\t89.8\t94.5\t89.5\n",
      "ConvNext-Base\tSGD (Freeze-2)\t98.6\t92.6\t99.4\t86.9\t95.1\t91.2\n",
      "ConvNext-Base\tAdamW (Freeze-2)\t98.7\t88.1\t99.5\t91.6\t94.7\t89.8\n",
      "CLIP ResNet-50\tSGD\t94.5\t66.9\t90.9\t7.3\t82.4\t56.1\n",
      "CLIP ResNet-50\tAdamW\t96.9\t73.1\t96.8\t63.2\t88.6\t70.6\n",
      "CLIP ResNet-50\tSGD (Freeze-2)\t95.9\t70.5\t93.1\t20.2\t84.5\t60.1\n",
      "CLIP ResNet-50\tAdamW (Freeze-2)\t97.0\t70.9\t97.1\t59.3\t87.6\t71.1\n",
      "CLIP ViT-L/14\tSGD\t98.4\t84.2\t97.3\t65.0\t84.3\t60.8\n",
      "CLIP ViT-L/14\tAdamW\t98.9\t88.0\t98.8\t85.2\t96.9\t93.8\n",
      "CLIP ViT-L/14\tSGD (Freeze-2)\t98.7\t90.5\t98.9\t84.7\t97.1\t93.1\n",
      "CLIP ViT-L/14\tAdamW (Freeze-2)\t98.7\t88.0\t98.8\t84.6\t96.7\t93.8\n"
     ]
    }
   ],
   "source": [
    "val_metric_list = ['test_acc/source_val_living', 'WATERBIRDS_VAL', 'test_acc/sketch_val']\n",
    "table = get_table(log_dir, name_template, models, options, datasets, output_metrics_list, val_metric_list)\n",
    "display_tsv_table(shorted_model_names, shortened_options_names, shortened_output_metrics_list, table)"
   ]
  },
  {
   "cell_type": "code",
   "execution_count": 9,
   "metadata": {},
   "outputs": [
    {
     "name": "stdout",
     "output_type": "stream",
     "text": [
      "\t\tLiving-17 ID\tLiving-17 OOD\tWaterbirds ID\tWaterbirds OOD\tDomainNet ID\tDomainNet OOD\n",
      "CLIP ViT-B/16\tLamb\t98.2\t79.5\t97.8\t64.0\t95.1\t90.4\n",
      "CLIP ViT-B/16\tLARS\t97.7\t83.9\t97.1\t48.6\t93.2\t83.8\n"
     ]
    }
   ],
   "source": [
    "# LAMB and LARS results for CLIP ViT-B/16\n",
    "models = ['clip_vit_b16']\n",
    "options = ['opt_torch_optimizer.Lamb_', 'opt_torch_optimizer.LARS_']\n",
    "val_metric_list = ['test_acc/source_val_living', 'WATERBIRDS_VAL', 'test_acc/sketch_val']\n",
    "datasets = ['living17_nonorm', 'waterbirds', 'domainnet']\n",
    "output_metrics_list = [['test_acc/source_val_living', 'test_acc/target_val_living'], ['WATERBIRDS_VAL', 'WORST'], ['test_acc/sketch_val', 'test_acc/real_val']]\n",
    "val_metric_list = ['test_acc/source_val_living', 'WATERBIRDS_VAL', 'test_acc/sketch_val']\n",
    "aggregation_metric_list = ['test_acc/source_val_living', 'WATERBIRDS_VAL', 'test_acc/sketch_val']\n",
    "table = get_table(log_dir, name_template, models, options, datasets, output_metrics_list, val_metric_list)\n",
    "shorted_model_names = ['CLIP ViT-B/16']\n",
    "shortened_options_names = ['Lamb', 'LARS']\n",
    "shortened_output_metrics_list = ['Living-17 ID', 'Living-17 OOD', 'Waterbirds ID', 'Waterbirds OOD', 'DomainNet ID', 'DomainNet OOD']\n",
    "display_tsv_table(shorted_model_names, shortened_options_names, shortened_output_metrics_list, table)"
   ]
  },
  {
   "cell_type": "code",
   "execution_count": 24,
   "metadata": {},
   "outputs": [
    {
     "data": {
      "text/plain": [
       "array([[97.026]], dtype=object)"
      ]
     },
     "execution_count": 24,
     "metadata": {},
     "output_type": "execute_result"
    }
   ],
   "source": [
    "best_row_mean.to_numpy()[:,:-2]"
   ]
  },
  {
   "cell_type": "code",
   "execution_count": null,
   "metadata": {},
   "outputs": [],
   "source": []
  }
 ],
 "metadata": {
  "kernelspec": {
   "display_name": "Python 3",
   "language": "python",
   "name": "python3"
  },
  "language_info": {
   "codemirror_mode": {
    "name": "ipython",
    "version": 3
   },
   "file_extension": ".py",
   "mimetype": "text/x-python",
   "name": "python",
   "nbconvert_exporter": "python",
   "pygments_lexer": "ipython3",
   "version": "3.8.5"
  }
 },
 "nbformat": 4,
 "nbformat_minor": 4
}
