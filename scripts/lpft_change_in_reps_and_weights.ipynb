{
 "cells": [
  {
   "cell_type": "code",
   "execution_count": null,
   "metadata": {},
   "outputs": [],
   "source": [
    "# So we can load files from other sub-directories, e.g. datasets.\n",
    "import os\n",
    "import sys\n",
    "module_path = os.path.abspath(os.path.join('unlabeled_extrapolation'))\n",
    "if module_path not in sys.path:\n",
    "    sys.path.append(module_path)\n",
    "    \n",
    "from unlabeled_extrapolation.models import imnet_resnet\n",
    "from unlabeled_extrapolation.models import imnet_models\n",
    "from torch import nn\n",
    "import torch\n",
    "import torchvision\n",
    "import numpy as np\n",
    "import glob\n",
    "import pickle\n",
    "import unlabeled_extrapolation.utils.utils as utils\n",
    "import json\n",
    "\n",
    "from unlabeled_extrapolation.datasets import fmow\n",
    "from unlabeled_extrapolation.baseline_train import preprocess_config\n",
    "from unlabeled_extrapolation.extract_features import get_features_labels\n",
    "\n",
    "import importlib\n",
    "importlib.reload(imnet_resnet)\n",
    "importlib.reload(imnet_models)\n"
   ]
  },
  {
   "cell_type": "code",
   "execution_count": null,
   "metadata": {},
   "outputs": [],
   "source": [
    "import torch\n",
    "torch.tensor(3.0).tolist()"
   ]
  },
  {
   "cell_type": "markdown",
   "metadata": {},
   "source": [
    "# Get weight distance between resnets (e.g. full ft vs random vs lpft)"
   ]
  },
  {
   "cell_type": "code",
   "execution_count": null,
   "metadata": {},
   "outputs": [],
   "source": [
    "def get_param_weights_counts(net):\n",
    "    weight_dict = {}\n",
    "    count_dict = {}\n",
    "    for param in net.named_parameters():\n",
    "        name = param[0]\n",
    "        weights = param[1]\n",
    "        weight_dict[name] = weights\n",
    "        count_dict[name] = np.prod(np.array(list(param[1].shape)))\n",
    "    return weight_dict, count_dict\n",
    "\n",
    "def get_l2_dist(weight_dict1, weight_dict2, count_dict, ignore='.fc.'):\n",
    "    l2_dist = torch.tensor(0.0).cuda()\n",
    "    count = 0.0\n",
    "    for key in weight_dict1:\n",
    "        if ignore not in key:\n",
    "            l2_dist += torch.sum(torch.square(weight_dict1[key] - weight_dict2[key]))\n",
    "            count += count_dict[key]\n",
    "    l2_dist = l2_dist / count\n",
    "    return float(l2_dist.cpu().detach().numpy())\n",
    "            \n",
    "def load_model(config_path, checkpoint_path):\n",
    "    print(config_path)\n",
    "    with open(config_path) as f:\n",
    "        config = json.load(f)\n",
    "    net = imnet_resnet.ResNet50()\n",
    "    net.new_last_layer(config['num_classes'])\n",
    "    utils.load_ckp(checkpoint_path, net)\n",
    "    net = net.cuda()\n",
    "    return net\n",
    "\n",
    "# Load datasets.\n",
    "def load_test_dataset(config_path, idx, batch_size=64, num_workers=2):\n",
    "    with open(config_path) as f:\n",
    "        config = json.load(f)\n",
    "    preprocess_config(config, config_path)\n",
    "    test_config = config['test_datasets'][idx]\n",
    "    if 'unlabeled_extrapolation' not in test_config['classname']:\n",
    "        test_config['classname'] = 'unlabeled_extrapolation.' + test_config['classname']\n",
    "#     if 'transforms' not in test_config:\n",
    "#         test_config['transforms'] = config['default_test_transforms']\n",
    "    test_data = utils.init_dataset(test_config)\n",
    "    test_loader = torch.utils.data.DataLoader(\n",
    "        test_data, batch_size=batch_size,\n",
    "        shuffle=False, num_workers=num_workers)\n",
    "    return test_data, test_loader"
   ]
  },
  {
   "cell_type": "code",
   "execution_count": null,
   "metadata": {},
   "outputs": [],
   "source": [
    "mocov2_model = imnet_resnet.ResNet50(pretrained=True, pretrain_style='mocov2', checkpoint_path='/u/scr/ananya/simclr_weights/moco_v2_800ep_pretrain.pth.tar')\n",
    "mocov2_model.cuda()"
   ]
  },
  {
   "cell_type": "code",
   "execution_count": 60,
   "metadata": {},
   "outputs": [
    {
     "name": "stdout",
     "output_type": "stream",
     "text": [
      "../logs/full_ft_living17_resnet50/optimizer.args.lr-0.001_seed-0_run0/config.json\n",
      "../logs/full_ft_living17_resnet50/optimizer.args.lr-0.0001_seed-0_run0/config.json\n",
      "../logs/lp_then_ft_valmode_living17_resnet50/optimizer.args.lr-0.0001_seed-0_use_net_val_mode-True_run0/config.json\n",
      "../logs/full_ft_living17_resnet50/optimizer.args.lr-0.001_seed-1_run1/config.json\n",
      "../logs/full_ft_living17_resnet50/optimizer.args.lr-0.0001_seed-1_run1/config.json\n",
      "../logs/lp_then_ft_valmode_living17_resnet50/optimizer.args.lr-0.0001_seed-1_use_net_val_mode-True_run1/config.json\n",
      "../logs/full_ft_living17_resnet50/optimizer.args.lr-0.001_seed-2_run2/config.json\n",
      "../logs/full_ft_living17_resnet50/optimizer.args.lr-0.0001_seed-2_run2/config.json\n",
      "../logs/lp_then_ft_valmode_living17_resnet50/optimizer.args.lr-0.0001_seed-2_use_net_val_mode-True_run2/config.json\n"
     ]
    }
   ],
   "source": [
    "# Compare weight distance between checkpoints\n",
    "\n",
    "def load_ckp(path, num_classes):\n",
    "    net = imnet_resnet.ResNet50()\n",
    "    net.new_last_layer(num_classes)\n",
    "    utils.load_ckp(path, net)\n",
    "    return net\n",
    "\n",
    "model_path_fmts = {\n",
    "    'ft_living17_best_path_fmt': '../logs/full_ft_living17_resnet50/optimizer.args.lr-0.001_seed-{}_run{}/',\n",
    "    'ft_living17_samelr_path_fmt': '../logs/full_ft_living17_resnet50/optimizer.args.lr-0.0001_seed-{}_run{}/',\n",
    "    'lpft_living17_path_fmt': '../logs/lp_then_ft_valmode_living17_resnet50/optimizer.args.lr-0.0001_seed-{}_use_net_val_mode-True_run{}/',\n",
    "}\n",
    "checkpoint_ext = 'checkpoints/ckp_best_source_val_living'\n",
    "config_ext = 'config.json'\n",
    "num_classes = 17\n",
    "distances = {\n",
    "    'ft_living17_best_path_fmt': [],\n",
    "    'ft_living17_samelr_path_fmt': [],\n",
    "    'lpft_living17_path_fmt': [],\n",
    "\n",
    "}\n",
    "wd, cd = get_param_weights_counts(mocov2_model)\n",
    "\n",
    "for i in range(3):\n",
    "    for key in model_path_fmts:\n",
    "        ckp_path = model_path_fmts[key].format(i, i) + checkpoint_ext\n",
    "        config_path = model_path_fmts[key].format(i, i) + config_ext\n",
    "        net = load_model(config_path, ckp_path)\n",
    "        dist = get_l2_dist(wd, get_param_weights_counts(net)[0], cd)\n",
    "        distances[key].append(dist)"
   ]
  },
  {
   "cell_type": "code",
   "execution_count": 61,
   "metadata": {},
   "outputs": [
    {
     "name": "stdout",
     "output_type": "stream",
     "text": [
      "ft_living17_best_path_fmt\n",
      "2.2578324963736427e-06\n",
      "6.152266444806382e-09\n",
      "ft_living17_samelr_path_fmt\n",
      "2.4158858498897945e-07\n",
      "2.8288501226835223e-09\n",
      "lpft_living17_path_fmt\n",
      "6.773888827638075e-08\n",
      "1.2904584535951586e-09\n"
     ]
    }
   ],
   "source": [
    "for key in distances:\n",
    "    print(key)\n",
    "    print(np.mean(distances[key]))\n",
    "    print(np.std(distances[key]) / np.sqrt(len(distances[key])) * 1.645)"
   ]
  },
  {
   "cell_type": "code",
   "execution_count": 79,
   "metadata": {},
   "outputs": [
    {
     "name": "stdout",
     "output_type": "stream",
     "text": [
      "../logs/full_ft_living17_resnet50/optimizer.args.lr-0.001_seed-0_run0/config.json\n",
      "loading data\n",
      "computing features\n",
      "../logs/full_ft_living17_resnet50/optimizer.args.lr-0.0001_seed-0_run0/config.json\n",
      "loading data\n",
      "computing features\n",
      "../logs/lp_then_ft_valmode_living17_resnet50/optimizer.args.lr-0.0001_seed-0_use_net_val_mode-True_run0/config.json\n",
      "loading data\n",
      "computing features\n",
      "../logs/full_ft_living17_resnet50/optimizer.args.lr-0.001_seed-1_run1/config.json\n",
      "loading data\n",
      "computing features\n",
      "../logs/full_ft_living17_resnet50/optimizer.args.lr-0.0001_seed-1_run1/config.json\n",
      "loading data\n",
      "computing features\n",
      "../logs/lp_then_ft_valmode_living17_resnet50/optimizer.args.lr-0.0001_seed-1_use_net_val_mode-True_run1/config.json\n",
      "loading data\n",
      "computing features\n",
      "../logs/full_ft_living17_resnet50/optimizer.args.lr-0.001_seed-2_run2/config.json\n",
      "loading data\n",
      "computing features\n",
      "../logs/full_ft_living17_resnet50/optimizer.args.lr-0.0001_seed-2_run2/config.json\n",
      "loading data\n",
      "computing features\n",
      "../logs/lp_then_ft_valmode_living17_resnet50/optimizer.args.lr-0.0001_seed-2_use_net_val_mode-True_run2/config.json\n",
      "loading data\n",
      "computing features\n"
     ]
    }
   ],
   "source": [
    "def add_features(id_val_loader, ood_val_loader, ood_features_dict, id_features_dict, name, net):\n",
    "    id_features, _ = get_features_labels(net, id_val_loader)\n",
    "    ood_features, _ = get_features_labels(net, ood_val_loader)\n",
    "    id_features_dict[name] = id_features\n",
    "    ood_features_dict[name] = ood_features\n",
    "\n",
    "id_dists, ood_dists = {}, {}\n",
    "for key in model_path_fmts:\n",
    "    id_dists[key] = []\n",
    "    ood_dists[key] = []\n",
    "for i in range(3):\n",
    "    ood_features, id_features = {}, {}\n",
    "    for key in model_path_fmts:\n",
    "        ckp_path = model_path_fmts[key].format(i, i) + checkpoint_ext\n",
    "        config_path = model_path_fmts[key].format(i, i) + config_ext\n",
    "        net = load_model(config_path, ckp_path)\n",
    "        print('loading data')\n",
    "        _, id_val_loader = load_test_dataset(config_path, idx=0)\n",
    "        _, ood_val_loader = load_test_dataset(config_path, idx=1)\n",
    "        print('computing features')\n",
    "        if 'mocov2' not in id_features:\n",
    "            add_features(id_val_loader, ood_val_loader, ood_features, id_features, name='mocov2', net=mocov2_model)\n",
    "        add_features(id_val_loader, ood_val_loader, ood_features, id_features, name=key, net=net)\n",
    "        id_dists[key].append(np.mean(np.square(id_features[key] - id_features['mocov2'])))\n",
    "        ood_dists[key].append(np.mean(np.square(ood_features[key] - ood_features['mocov2'])))\n",
    "        \n",
    "    \n",
    "        \n",
    "# For each model, get config path, checkpoint path\n",
    "# Set model to val mode\n",
    "# If iteration is 1, get features for mocov2 model\n",
    "# Get features for other models"
   ]
  },
  {
   "cell_type": "code",
   "execution_count": 76,
   "metadata": {},
   "outputs": [],
   "source": [
    "for key in model_path_fmts:\n",
    "    id_dists[key].append(np.mean(np.square(id_features[key] - id_features['mocov2'])))\n",
    "    ood_dists[key].append(np.mean(np.square(ood_features[key] - ood_features['mocov2'])))"
   ]
  },
  {
   "cell_type": "code",
   "execution_count": 95,
   "metadata": {},
   "outputs": [
    {
     "name": "stdout",
     "output_type": "stream",
     "text": [
      "ft_living17_best_path_fmt\n",
      "1.88 (0.01)\n",
      "1.67 (0.01)\n",
      "ft_living17_samelr_path_fmt\n",
      "1.33 (0.02)\n",
      "1.03 (0.01)\n",
      "lpft_living17_path_fmt\n",
      "0.11 (0.01)\n",
      "0.09 (0.01)\n"
     ]
    }
   ],
   "source": [
    "for key in id_dists:\n",
    "    print(key)\n",
    "    print('{:.2f} ({:.2f})'.format(100*np.mean(id_dists[key]), 100*np.std(id_dists[key]) / np.sqrt(len(id_dists[key])) * 1.645))\n",
    "    print('{:.2f} ({:.2f})'.format(100*np.mean(ood_dists[key]), 100*np.std(ood_dists[key]) / np.sqrt(len(ood_dists[key])) * 1.645))\n",
    "#     print(str(np.mean(ood_dists[key])) + ' (' + str(np.std(ood_dists[key]) / np.sqrt(len(ood_dists[key])) * 1.645) + ')')\n",
    "    "
   ]
  },
  {
   "cell_type": "code",
   "execution_count": 81,
   "metadata": {},
   "outputs": [
    {
     "data": {
      "text/plain": [
       "{'ft_living17_best_path_fmt': [0.016827703, 0.016777152, 0.016641773],\n",
       " 'ft_living17_samelr_path_fmt': [0.010265077, 0.010212453, 0.010457616],\n",
       " 'lpft_living17_path_fmt': [0.00088527414, 0.00077893224, 0.0010297422]}"
      ]
     },
     "execution_count": 81,
     "metadata": {},
     "output_type": "execute_result"
    }
   ],
   "source": [
    "ood_dists"
   ]
  },
  {
   "cell_type": "code",
   "execution_count": null,
   "metadata": {},
   "outputs": [],
   "source": []
  }
 ],
 "metadata": {
  "kernelspec": {
   "display_name": "Python 3",
   "language": "python",
   "name": "python3"
  },
  "language_info": {
   "codemirror_mode": {
    "name": "ipython",
    "version": 3
   },
   "file_extension": ".py",
   "mimetype": "text/x-python",
   "name": "python",
   "nbconvert_exporter": "python",
   "pygments_lexer": "ipython3",
   "version": "3.8.5"
  }
 },
 "nbformat": 4,
 "nbformat_minor": 4
}
