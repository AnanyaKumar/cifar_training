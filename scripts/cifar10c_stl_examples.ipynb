{
 "cells": [
  {
   "cell_type": "code",
   "execution_count": null,
   "metadata": {},
   "outputs": [],
   "source": [
    "# So we can load files from other sub-directories, e.g. datasets.\n",
    "import os\n",
    "import sys\n",
    "module_path = os.path.abspath(os.path.join('..'))\n",
    "if module_path not in sys.path:\n",
    "    sys.path.append(module_path)\n",
    "\n",
    "import torchvision\n",
    "import torch\n",
    "import importlib\n",
    "import numpy as np\n",
    "from torchvision import transforms\n",
    "from datasets import cifar10c\n",
    "from datasets import stl_cifar_style\n",
    "from datasets import cinic\n",
    "import pickle\n",
    "import json\n",
    "import utils.utils as utils\n",
    "from utils.accumulator import Accumulator\n",
    "import matplotlib.pyplot as plt\n",
    "importlib.reload(cifar10c)\n",
    "importlib.reload(stl_cifar_style)\n",
    "importlib.reload(cinic)"
   ]
  },
  {
   "cell_type": "markdown",
   "metadata": {},
   "source": [
    "# CIFAR-10C Dataset"
   ]
  },
  {
   "cell_type": "code",
   "execution_count": null,
   "metadata": {},
   "outputs": [],
   "source": [
    "cifar10c_fog = cifar10c.CIFAR10C(root='/juice/scr/ananya/CIFAR-10-C/', corruption='snow', severity=2)"
   ]
  },
  {
   "cell_type": "code",
   "execution_count": null,
   "metadata": {},
   "outputs": [],
   "source": [
    "idx = 15\n",
    "img = cifar10c_fog[idx][0]\n",
    "plt.imshow(img)\n",
    "print(cifar10c_fog[idx][1])"
   ]
  },
  {
   "cell_type": "markdown",
   "metadata": {},
   "source": [
    "# STL Dataset"
   ]
  },
  {
   "cell_type": "code",
   "execution_count": null,
   "metadata": {},
   "outputs": [],
   "source": [
    "from PIL import Image\n",
    "from matplotlib import cm\n",
    "im = Image.fromarray(np.uint8(img))\n",
    "display(im)"
   ]
  },
  {
   "cell_type": "code",
   "execution_count": null,
   "metadata": {},
   "outputs": [],
   "source": [
    "stl_data = stl_cifar_style.STL10(root='/juice/scr/ananya/stl10_dataset/', split='test', download=False)"
   ]
  },
  {
   "cell_type": "code",
   "execution_count": null,
   "metadata": {},
   "outputs": [],
   "source": [
    "stl_data.classes"
   ]
  },
  {
   "cell_type": "code",
   "execution_count": null,
   "metadata": {},
   "outputs": [],
   "source": [
    "idx = 2004\n",
    "img = stl_data[idx][0]\n",
    "plt.imshow(img)\n",
    "print(stl_data.classes[stl_data[idx][1]])"
   ]
  },
  {
   "cell_type": "markdown",
   "metadata": {},
   "source": [
    "# CINIC Dataset"
   ]
  },
  {
   "cell_type": "code",
   "execution_count": null,
   "metadata": {},
   "outputs": [],
   "source": [
    "cinic_directory = '/juice/scr/ananya/cinic-10-imagenet'\n",
    "\n",
    "cinic_mean = [0.47889522, 0.47227842, 0.43047404]\n",
    "cinic_std = [0.24205776, 0.23828046, 0.25874835]\n",
    "cinic_data = cinic.CINICImNet(root=cinic_directory, mode='valid', transform=transforms.ToTensor())\n",
    "#                                      transform=transforms.Compose([transforms.ToTensor(),\n",
    "#                                      transforms.Normalize(mean=cinic_mean,std=cinic_std)]))\n",
    "# cinic_train = torch.utils.data.DataLoader(\n",
    "#     cinic_data, batch_size=128, shuffle=True)"
   ]
  },
  {
   "cell_type": "code",
   "execution_count": null,
   "metadata": {},
   "outputs": [],
   "source": [
    "idx = 25009\n",
    "img = np.transpose(cinic_data[idx][0], axes=[1,2,0])\n",
    "plt.imshow(img)\n",
    "print(cinic_data[idx][1])"
   ]
  },
  {
   "cell_type": "code",
   "execution_count": null,
   "metadata": {},
   "outputs": [],
   "source": []
  }
 ],
 "metadata": {
  "kernelspec": {
   "display_name": "Python 3",
   "language": "python",
   "name": "python3"
  },
  "language_info": {
   "codemirror_mode": {
    "name": "ipython",
    "version": 3
   },
   "file_extension": ".py",
   "mimetype": "text/x-python",
   "name": "python",
   "nbconvert_exporter": "python",
   "pygments_lexer": "ipython3",
   "version": "3.7.4"
  }
 },
 "nbformat": 4,
 "nbformat_minor": 4
}
