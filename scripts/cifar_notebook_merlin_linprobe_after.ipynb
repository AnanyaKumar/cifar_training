{
 "cells": [
  {
   "cell_type": "code",
   "execution_count": 1,
   "metadata": {},
   "outputs": [
    {
     "data": {
      "text/plain": [
       "<module 'cifar10_resized' from '/juice/scr/ananya/cifar_experiments/custom_training/cifar10_resized.py'>"
      ]
     },
     "execution_count": 1,
     "metadata": {},
     "output_type": "execute_result"
    }
   ],
   "source": [
    "import torchvision\n",
    "import torch\n",
    "import importlib\n",
    "import resnet\n",
    "import numpy as np\n",
    "from torchvision import transforms\n",
    "import cifar10_resized\n",
    "import pickle\n",
    "import json\n",
    "import utils.utils as utils\n",
    "from utils.accumulator import Accumulator\n",
    "import train\n",
    "importlib.reload(train)\n",
    "importlib.reload(cifar10_resized)"
   ]
  },
  {
   "cell_type": "code",
   "execution_count": 2,
   "metadata": {},
   "outputs": [],
   "source": [
    "# Read config.\n",
    "# Load checkpoint\n",
    "config_path = './logs/small_run_merlin_7/config.json'\n",
    "checkpoint_path = './logs/small_run_merlin_7/checkpoints/ckp_best'\n",
    "batch_size, num_workers = 128, 16\n",
    "use_cuda = True\n",
    "with open(config_path) as f:\n",
    "    device = 'cuda'\n",
    "    config = json.load(f)\n",
    "net = utils.initialize(config['model'])\n",
    "if use_cuda:\n",
    "    net.cuda()\n",
    "utils.load_ckp(checkpoint_path, net)\n",
    "test_data = utils.init_dataset(config['test_dataset'])\n",
    "test_loader = torch.utils.data.DataLoader(\n",
    "    test_data, batch_size=batch_size,\n",
    "    shuffle=False, num_workers=num_workers)\n",
    "criterion = utils.initialize(config['criterion'])"
   ]
  },
  {
   "cell_type": "code",
   "execution_count": 3,
   "metadata": {},
   "outputs": [],
   "source": [
    "val_loss, val_acc = train.get_test_stats(config, net, test_loader, criterion, device)"
   ]
  },
  {
   "cell_type": "code",
   "execution_count": 4,
   "metadata": {},
   "outputs": [
    {
     "data": {
      "text/plain": [
       "0.3026"
      ]
     },
     "execution_count": 4,
     "metadata": {},
     "output_type": "execute_result"
    }
   ],
   "source": [
    "val_acc.get_mean()"
   ]
  },
  {
   "cell_type": "markdown",
   "metadata": {},
   "source": [
    "# Tuning the last linear layer which doesn't really work"
   ]
  },
  {
   "cell_type": "code",
   "execution_count": 5,
   "metadata": {},
   "outputs": [
    {
     "name": "stdout",
     "output_type": "stream",
     "text": [
      "(10000, 512) (10000,) (10000, 10)\n"
     ]
    }
   ],
   "source": [
    "# Train linear model on top of features.\n",
    "net.eval()\n",
    "features_list, logits_list, labels_list = [], [], []\n",
    "with torch.no_grad():\n",
    "    for data in test_loader:\n",
    "        if use_cuda:\n",
    "            data = utils.to_device(data, device)\n",
    "        images, labels = data\n",
    "        outputs, features = net(images, return_features_also=True)\n",
    "        logits_list.append(outputs.detach().cpu().numpy())\n",
    "        features_list.append(features.detach().cpu().numpy())\n",
    "        labels_list.append(labels.detach().cpu().numpy())\n",
    "features = np.concatenate(features_list)\n",
    "labels = np.concatenate(labels_list)\n",
    "logits = np.concatenate(logits_list)\n",
    "print(features.shape, labels.shape, logits.shape)"
   ]
  },
  {
   "cell_type": "code",
   "execution_count": 6,
   "metadata": {},
   "outputs": [],
   "source": [
    "# Select tuning and testing indices\n",
    "seed = 0\n",
    "num_tune = 5000\n",
    "num_test = len(test_data) - num_tune\n",
    "rng = np.random.default_rng(seed=seed)\n",
    "indices = rng.permutation(len(test_data))\n",
    "tune_indices = indices[:num_tune]\n",
    "test_indices = indices[num_tune:]"
   ]
  },
  {
   "cell_type": "code",
   "execution_count": 7,
   "metadata": {},
   "outputs": [
    {
     "name": "stdout",
     "output_type": "stream",
     "text": [
      "0.3006\n"
     ]
    }
   ],
   "source": [
    "# Get model accuracy on second part\n",
    "test_logits = logits[test_indices]\n",
    "test_preds = np.argmax(test_logits, axis=1)\n",
    "test_labels = labels[test_indices]\n",
    "print(np.mean(test_preds==test_labels))"
   ]
  },
  {
   "cell_type": "code",
   "execution_count": 14,
   "metadata": {},
   "outputs": [
    {
     "name": "stderr",
     "output_type": "stream",
     "text": [
      "/juice/scr/ananya/cifar_experiments/env/lib/python3.7/site-packages/sklearn/linear_model/_logistic.py:764: ConvergenceWarning: lbfgs failed to converge (status=1):\n",
      "STOP: TOTAL NO. of ITERATIONS REACHED LIMIT.\n",
      "\n",
      "Increase the number of iterations (max_iter) or scale the data as shown in:\n",
      "    https://scikit-learn.org/stable/modules/preprocessing.html\n",
      "Please also refer to the documentation for alternative solver options:\n",
      "    https://scikit-learn.org/stable/modules/linear_model.html#logistic-regression\n",
      "  extra_warning_msg=_LOGISTIC_SOLVER_CONVERGENCE_MSG)\n"
     ]
    }
   ],
   "source": [
    "# Train sklearn linear probe on first part, measure acc on second part\n",
    "from sklearn.linear_model import LogisticRegression\n",
    "from sklearn.ensemble import RandomForestClassifier\n",
    "tune_features = features[tune_indices]\n",
    "test_features = features[test_indices]\n",
    "tune_labels = labels[tune_indices]\n",
    "test_labels = labels[test_indices]\n",
    "# clf = RandomForestClassifier(max_depth=3, random_state=0).fit(tune_features, tune_labels)\n",
    "clf = LogisticRegression(random_state=0, C=0.1).fit(tune_features, tune_labels)"
   ]
  },
  {
   "cell_type": "code",
   "execution_count": 15,
   "metadata": {},
   "outputs": [
    {
     "name": "stdout",
     "output_type": "stream",
     "text": [
      "0.3084\n",
      "0.3102\n"
     ]
    }
   ],
   "source": [
    "# Get training acc\n",
    "from scipy.special import softmax\n",
    "tune_preds = clf.predict(tune_features)\n",
    "tune_acc = np.mean(tune_preds==tune_labels)\n",
    "print(tune_acc)\n",
    "test_preds = clf.predict(test_features)\n",
    "test_pred_probs = clf.predict_proba(test_features)\n",
    "test_acc = np.mean(test_preds==test_labels)\n",
    "print(test_acc)"
   ]
  },
  {
   "cell_type": "code",
   "execution_count": 34,
   "metadata": {},
   "outputs": [
    {
     "name": "stdout",
     "output_type": "stream",
     "text": [
      "0.9394416\n"
     ]
    }
   ],
   "source": [
    "test_probs = softmax(test_logits, axis=1)\n",
    "print(np.mean(np.max(test_probs, axis=1)))"
   ]
  },
  {
   "cell_type": "code",
   "execution_count": 35,
   "metadata": {},
   "outputs": [
    {
     "name": "stdout",
     "output_type": "stream",
     "text": [
      "0.812295134468732\n"
     ]
    }
   ],
   "source": [
    "print(np.mean(np.max(test_pred_probs, axis=1)))"
   ]
  },
  {
   "cell_type": "code",
   "execution_count": null,
   "metadata": {},
   "outputs": [],
   "source": []
  }
 ],
 "metadata": {
  "kernelspec": {
   "display_name": "Python 3",
   "language": "python",
   "name": "python3"
  },
  "language_info": {
   "codemirror_mode": {
    "name": "ipython",
    "version": 3
   },
   "file_extension": ".py",
   "mimetype": "text/x-python",
   "name": "python",
   "nbconvert_exporter": "python",
   "pygments_lexer": "ipython3",
   "version": "3.7.4"
  }
 },
 "nbformat": 4,
 "nbformat_minor": 4
}
