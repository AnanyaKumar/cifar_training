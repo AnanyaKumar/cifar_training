{
 "cells": [
  {
   "cell_type": "code",
   "execution_count": 1,
   "metadata": {},
   "outputs": [
    {
     "ename": "ModuleNotFoundError",
     "evalue": "No module named 'unlabeled_extrapolation'",
     "output_type": "error",
     "traceback": [
      "\u001b[0;31m---------------------------------------------------------------------------\u001b[0m",
      "\u001b[0;31mModuleNotFoundError\u001b[0m                       Traceback (most recent call last)",
      "\u001b[0;32m<ipython-input-1-8fd7da59595b>\u001b[0m in \u001b[0;36m<module>\u001b[0;34m\u001b[0m\n\u001b[0;32m----> 1\u001b[0;31m \u001b[0;32mfrom\u001b[0m \u001b[0munlabeled_extrapolation\u001b[0m\u001b[0;34m.\u001b[0m\u001b[0mmodels\u001b[0m \u001b[0;32mimport\u001b[0m \u001b[0mbit_resnet\u001b[0m\u001b[0;34m,\u001b[0m \u001b[0mvit_model\u001b[0m\u001b[0;34m,\u001b[0m \u001b[0mtimm_model\u001b[0m\u001b[0;34m,\u001b[0m \u001b[0mclip_model\u001b[0m\u001b[0;34m,\u001b[0m \u001b[0mimnet_resnet\u001b[0m\u001b[0;34m,\u001b[0m \u001b[0msuriya_bit_resnet\u001b[0m\u001b[0;34m\u001b[0m\u001b[0;34m\u001b[0m\u001b[0m\n\u001b[0m\u001b[1;32m      2\u001b[0m \u001b[0;32mfrom\u001b[0m \u001b[0munlabeled_extrapolation\u001b[0m\u001b[0;34m.\u001b[0m\u001b[0mutils\u001b[0m \u001b[0;32mimport\u001b[0m \u001b[0mutils\u001b[0m\u001b[0;34m\u001b[0m\u001b[0;34m\u001b[0m\u001b[0m\n\u001b[1;32m      3\u001b[0m \u001b[0;32mimport\u001b[0m \u001b[0mimportlib\u001b[0m\u001b[0;34m\u001b[0m\u001b[0;34m\u001b[0m\u001b[0m\n\u001b[1;32m      4\u001b[0m \u001b[0;32mimport\u001b[0m \u001b[0mtimm\u001b[0m\u001b[0;34m\u001b[0m\u001b[0;34m\u001b[0m\u001b[0m\n\u001b[1;32m      5\u001b[0m \u001b[0;32mimport\u001b[0m \u001b[0mtorch\u001b[0m\u001b[0;34m\u001b[0m\u001b[0;34m\u001b[0m\u001b[0m\n",
      "\u001b[0;31mModuleNotFoundError\u001b[0m: No module named 'unlabeled_extrapolation'"
     ]
    }
   ],
   "source": [
    "from unlabeled_extrapolation.models import bit_resnet, vit_model, timm_model, clip_model, imnet_resnet, suriya_bit_resnet\n",
    "from unlabeled_extrapolation.utils import utils\n",
    "import importlib\n",
    "import timm\n",
    "import torch\n",
    "from torch import nn\n",
    "import numpy as np\n",
    "importlib.reload(bit_resnet)\n",
    "importlib.reload(vit_model)\n",
    "importlib.reload(utils)\n",
    "importlib.reload(timm_model)\n",
    "importlib.reload(clip_model)\n",
    "importlib.reload(imnet_resnet)"
   ]
  },
  {
   "cell_type": "code",
   "execution_count": null,
   "metadata": {},
   "outputs": [],
   "source": [
    "import sys\n",
    "print(sys.path)"
   ]
  },
  {
   "cell_type": "code",
   "execution_count": 2,
   "metadata": {},
   "outputs": [],
   "source": [
    "def get_layers_freeze_test(model):\n",
    "    print('num params before freezing: ', utils.count_parameters(model, trainable=True))\n",
    "    print(model.get_layers()[1])\n",
    "    print(len(model.get_layers()))\n",
    "    for k in [1, 2, len(model.get_layers())]:\n",
    "        model.freeze_bottom_k(k=k)\n",
    "        print(f'num params after freezing {k}: {utils.count_parameters(model, trainable=True)}')\n"
   ]
  },
  {
   "cell_type": "markdown",
   "metadata": {},
   "source": [
    "# Get image"
   ]
  },
  {
   "cell_type": "markdown",
   "metadata": {},
   "source": [
    "# Analyzing layer norm"
   ]
  },
  {
   "cell_type": "code",
   "execution_count": 3,
   "metadata": {},
   "outputs": [
    {
     "ename": "NameError",
     "evalue": "name 'np' is not defined",
     "output_type": "error",
     "traceback": [
      "\u001b[0;31m---------------------------------------------------------------------------\u001b[0m",
      "\u001b[0;31mNameError\u001b[0m                                 Traceback (most recent call last)",
      "\u001b[0;32m<ipython-input-3-2ece9587aa4b>\u001b[0m in \u001b[0;36m<module>\u001b[0;34m\u001b[0m\n\u001b[0;32m----> 1\u001b[0;31m \u001b[0mdata\u001b[0m \u001b[0;34m=\u001b[0m \u001b[0mnp\u001b[0m\u001b[0;34m.\u001b[0m\u001b[0marray\u001b[0m\u001b[0;34m(\u001b[0m\u001b[0;34m[\u001b[0m\u001b[0;36m0.1\u001b[0m\u001b[0;34m,\u001b[0m \u001b[0;36m0.4\u001b[0m\u001b[0;34m,\u001b[0m \u001b[0;36m0.5\u001b[0m\u001b[0;34m]\u001b[0m\u001b[0;34m,\u001b[0m \u001b[0mdtype\u001b[0m\u001b[0;34m=\u001b[0m\u001b[0mnp\u001b[0m\u001b[0;34m.\u001b[0m\u001b[0mfloat32\u001b[0m\u001b[0;34m)\u001b[0m\u001b[0;34m+\u001b[0m\u001b[0;36m0.6\u001b[0m\u001b[0;34m\u001b[0m\u001b[0;34m\u001b[0m\u001b[0m\n\u001b[0m\u001b[1;32m      2\u001b[0m \u001b[0mx\u001b[0m \u001b[0;34m=\u001b[0m \u001b[0mtorch\u001b[0m\u001b[0;34m.\u001b[0m\u001b[0mtensor\u001b[0m\u001b[0;34m(\u001b[0m\u001b[0mdata\u001b[0m\u001b[0;34m)\u001b[0m\u001b[0;34m\u001b[0m\u001b[0;34m\u001b[0m\u001b[0m\n\u001b[1;32m      3\u001b[0m \u001b[0mlayer_norm\u001b[0m \u001b[0;34m=\u001b[0m \u001b[0mnn\u001b[0m\u001b[0;34m.\u001b[0m\u001b[0mLayerNorm\u001b[0m\u001b[0;34m(\u001b[0m\u001b[0mlen\u001b[0m\u001b[0;34m(\u001b[0m\u001b[0mdata\u001b[0m\u001b[0;34m)\u001b[0m\u001b[0;34m,\u001b[0m \u001b[0melementwise_affine\u001b[0m\u001b[0;34m=\u001b[0m\u001b[0;32mFalse\u001b[0m\u001b[0;34m)\u001b[0m\u001b[0;34m\u001b[0m\u001b[0;34m\u001b[0m\u001b[0m\n\u001b[1;32m      4\u001b[0m \u001b[0mA\u001b[0m \u001b[0;34m=\u001b[0m \u001b[0mtorch\u001b[0m\u001b[0;34m.\u001b[0m\u001b[0meye\u001b[0m\u001b[0;34m(\u001b[0m\u001b[0mlen\u001b[0m\u001b[0;34m(\u001b[0m\u001b[0mdata\u001b[0m\u001b[0;34m)\u001b[0m\u001b[0;34m,\u001b[0m \u001b[0mrequires_grad\u001b[0m\u001b[0;34m=\u001b[0m\u001b[0;32mTrue\u001b[0m\u001b[0;34m)\u001b[0m\u001b[0;34m\u001b[0m\u001b[0;34m\u001b[0m\u001b[0m\n\u001b[1;32m      5\u001b[0m \u001b[0moutput\u001b[0m \u001b[0;34m=\u001b[0m \u001b[0mlayer_norm\u001b[0m\u001b[0;34m(\u001b[0m\u001b[0mtorch\u001b[0m\u001b[0;34m.\u001b[0m\u001b[0mmatmul\u001b[0m\u001b[0;34m(\u001b[0m\u001b[0mA\u001b[0m\u001b[0;34m,\u001b[0m \u001b[0mx\u001b[0m\u001b[0;34m)\u001b[0m\u001b[0;34m)\u001b[0m\u001b[0;34m\u001b[0m\u001b[0;34m\u001b[0m\u001b[0m\n",
      "\u001b[0;31mNameError\u001b[0m: name 'np' is not defined"
     ]
    }
   ],
   "source": [
    "data = np.array([0.1, 0.4, 0.5], dtype=np.float32)+0.6\n",
    "x = torch.tensor(data)\n",
    "layer_norm = nn.LayerNorm(len(data), elementwise_affine=False)\n",
    "A = torch.eye(len(data), requires_grad=True)\n",
    "output = layer_norm(torch.matmul(A, x))\n",
    "loss = torch.dot(torch.tensor([0.1, 0.2, 0.5]), output) # torch.sum(torch.square(output))\n",
    "loss.backward()\n",
    "print(loss)\n",
    "print(A.grad)"
   ]
  },
  {
   "cell_type": "code",
   "execution_count": 4,
   "metadata": {},
   "outputs": [
    {
     "ename": "NameError",
     "evalue": "name 'np' is not defined",
     "output_type": "error",
     "traceback": [
      "\u001b[0;31m---------------------------------------------------------------------------\u001b[0m",
      "\u001b[0;31mNameError\u001b[0m                                 Traceback (most recent call last)",
      "\u001b[0;32m<ipython-input-4-167356b8db14>\u001b[0m in \u001b[0;36m<module>\u001b[0;34m\u001b[0m\n\u001b[0;32m----> 1\u001b[0;31m \u001b[0mdata\u001b[0m \u001b[0;34m=\u001b[0m \u001b[0mnp\u001b[0m\u001b[0;34m.\u001b[0m\u001b[0marray\u001b[0m\u001b[0;34m(\u001b[0m\u001b[0;34m[\u001b[0m\u001b[0;36m0.1\u001b[0m\u001b[0;34m,\u001b[0m \u001b[0;36m0.4\u001b[0m\u001b[0;34m,\u001b[0m \u001b[0;36m0.5\u001b[0m\u001b[0;34m]\u001b[0m\u001b[0;34m,\u001b[0m \u001b[0mdtype\u001b[0m\u001b[0;34m=\u001b[0m\u001b[0mnp\u001b[0m\u001b[0;34m.\u001b[0m\u001b[0mfloat32\u001b[0m\u001b[0;34m)\u001b[0m \u001b[0;34m-\u001b[0m \u001b[0;36m100.0\u001b[0m\u001b[0;34m\u001b[0m\u001b[0;34m\u001b[0m\u001b[0m\n\u001b[0m\u001b[1;32m      2\u001b[0m \u001b[0mx\u001b[0m \u001b[0;34m=\u001b[0m \u001b[0mtorch\u001b[0m\u001b[0;34m.\u001b[0m\u001b[0mtensor\u001b[0m\u001b[0;34m(\u001b[0m\u001b[0mdata\u001b[0m\u001b[0;34m)\u001b[0m\u001b[0;34m\u001b[0m\u001b[0;34m\u001b[0m\u001b[0m\n\u001b[1;32m      3\u001b[0m \u001b[0mA\u001b[0m \u001b[0;34m=\u001b[0m \u001b[0mtorch\u001b[0m\u001b[0;34m.\u001b[0m\u001b[0meye\u001b[0m\u001b[0;34m(\u001b[0m\u001b[0mlen\u001b[0m\u001b[0;34m(\u001b[0m\u001b[0mdata\u001b[0m\u001b[0;34m)\u001b[0m\u001b[0;34m,\u001b[0m \u001b[0mrequires_grad\u001b[0m\u001b[0;34m=\u001b[0m\u001b[0;32mTrue\u001b[0m\u001b[0;34m)\u001b[0m\u001b[0;34m\u001b[0m\u001b[0;34m\u001b[0m\u001b[0m\n\u001b[1;32m      4\u001b[0m \u001b[0mz\u001b[0m \u001b[0;34m=\u001b[0m \u001b[0mtorch\u001b[0m\u001b[0;34m.\u001b[0m\u001b[0mmatmul\u001b[0m\u001b[0;34m(\u001b[0m\u001b[0mA\u001b[0m\u001b[0;34m,\u001b[0m \u001b[0mx\u001b[0m\u001b[0;34m)\u001b[0m\u001b[0;34m\u001b[0m\u001b[0;34m\u001b[0m\u001b[0m\n\u001b[1;32m      5\u001b[0m \u001b[0mz\u001b[0m\u001b[0;34m.\u001b[0m\u001b[0mretain_grad\u001b[0m\u001b[0;34m(\u001b[0m\u001b[0;34m)\u001b[0m\u001b[0;34m\u001b[0m\u001b[0;34m\u001b[0m\u001b[0m\n",
      "\u001b[0;31mNameError\u001b[0m: name 'np' is not defined"
     ]
    }
   ],
   "source": [
    "data = np.array([0.1, 0.4, 0.5], dtype=np.float32) - 100.0\n",
    "x = torch.tensor(data)\n",
    "A = torch.eye(len(data), requires_grad=True)\n",
    "z = torch.matmul(A, x)\n",
    "z.retain_grad()\n",
    "mu = torch.mean(z)\n",
    "mu.retain_grad()\n",
    "sigma = torch.sqrt(torch.std(z, unbiased=False) ** 2)\n",
    "sigma.retain_grad()\n",
    "o = (z - mu) / sigma\n",
    "o.retain_grad()\n",
    "l = torch.dot(torch.tensor([0.1, 0.2, 0.5]), o)\n",
    "# l.backward()\n",
    "# print(A.grad)\n",
    "l.backward()\n",
    "print(A.grad)"
   ]
  },
  {
   "cell_type": "markdown",
   "metadata": {},
   "source": [
    "# Get norms and gradients for different models"
   ]
  },
  {
   "cell_type": "code",
   "execution_count": null,
   "metadata": {},
   "outputs": [],
   "source": [
    "model = clip_model.ClipModel('ViT-L/14')\n"
   ]
  },
  {
   "cell_type": "code",
   "execution_count": null,
   "metadata": {},
   "outputs": [],
   "source": [
    "model = clip_model.ClipModel('ViT-B/16')\n",
    "model.new_last_layer(2)"
   ]
  },
  {
   "cell_type": "code",
   "execution_count": null,
   "metadata": {},
   "outputs": [],
   "source": [
    "# print(list(model.get_layers()[0][1].parameters())[0].requires_grad)\n",
    "# inputs = torch.zeros((1, 3, 224, 224))\n",
    "\n",
    "def get_clip_mean_input():\n",
    "    inputs = torch.tensor([0.48145466, 0.4578275, 0.40821073])\n",
    "    inputs = inputs.unsqueeze(0).unsqueeze(-1).unsqueeze(-1)\n",
    "    inputs = inputs.tile([1, 1, 224, 224])\n",
    "    return inputs\n",
    "\n",
    "def get_clip_dist_input():\n",
    "    inputs = torch.tensor([0.48145466, 0.4578275, 0.40821073])\n",
    "    inputs = inputs.unsqueeze(0).unsqueeze(-1).unsqueeze(-1)\n",
    "    inputs = inputs.tile([1, 1, 224, 224])\n",
    "    return inputs\n",
    "\n",
    "inputs = torch.tensor([0.48145466, 0.4578275, 0.40821073])\n",
    "inputs = inputs.unsqueeze(0).unsqueeze(-1).unsqueeze(-1)\n",
    "inputs = inputs.tile([1, 1, 224, 224])\n",
    "print(inputs.shape)\n",
    "inputs = inputs.cuda()\n",
    "model.cuda()\n",
    "outputs = model(inputs)\n",
    "loss = torch.sum(torch.square(outputs))\n",
    "loss.backward()"
   ]
  },
  {
   "cell_type": "code",
   "execution_count": null,
   "metadata": {},
   "outputs": [],
   "source": [
    "\n",
    "def get_grad_layer(cur_layer):\n",
    "    grads = [p.grad.detach().cpu().numpy() for p in cur_layer.parameters()]\n",
    "    grad_norms_squared = [np.linalg.norm(g) ** 2 for g in grads]\n",
    "    grad_norm = np.sqrt(np.sum(grad_norms_squared))\n",
    "    return grad_norm\n",
    "\n",
    "def get_norm_layer(cur_layer):\n",
    "    norms_squared = [np.linalg.norm(p.data.detach().cpu().numpy()) ** 2 for p in cur_layer.parameters()]\n",
    "    norm = np.sqrt(np.sum(norms_squared))\n",
    "    return norm\n",
    "\n",
    "def get_layer_grads(model):\n",
    "    named_layers = model.get_layers()\n",
    "    names, layers = zip(*named_layers)\n",
    "    norms = [get_norm_layer(l) for l in layers]\n",
    "    grad_norms = [get_grad_layer(l) for l in layers]\n",
    "    return norms, grad_norms\n",
    "\n",
    "norms, grad_norms = get_layer_grads(model)\n",
    "print(grad_norms)\n",
    "    "
   ]
  },
  {
   "cell_type": "markdown",
   "metadata": {},
   "source": [
    "# Test get layers for different models"
   ]
  },
  {
   "cell_type": "code",
   "execution_count": null,
   "metadata": {},
   "outputs": [],
   "source": [
    "# Bit-resnet (get layers) for ResNet-50 and ResNet-101\n",
    "\n",
    "resnet50_checkpoint_path = \"/u/scr/ananya/simclr_weights/BiT-M-R50x1.npz\"\n",
    "resnet50 = bit_resnet.BitResNet(model_name='BiT-M-R50x1', checkpoint_path=resnet50_checkpoint_path)\n",
    "get_layers_freeze_test(resnet50)\n",
    "\n",
    "resnet101_checkpoint_path = \"/u/scr/ananya/simclr_weights/BiT-M-R101x1.npz\"\n",
    "resnet101 = bit_resnet.BitResNet(model_name='BiT-M-R101x1', checkpoint_path=resnet101_checkpoint_path)\n",
    "get_layers_freeze_test(resnet101)"
   ]
  },
  {
   "cell_type": "code",
   "execution_count": null,
   "metadata": {},
   "outputs": [],
   "source": [
    "# DINO\n",
    "model = vit_model.VitModel(model_name='dino_vitb16')\n",
    "model.new_last_layer(10)\n",
    "get_layers_freeze_test(model)\n"
   ]
  },
  {
   "cell_type": "code",
   "execution_count": null,
   "metadata": {},
   "outputs": [],
   "source": [
    "# Timm ViT-S\n",
    "model = vit_model.VitModel(model_name='timm.vit_small_patch16_224')\n",
    "get_layers_freeze_test(model)\n"
   ]
  },
  {
   "cell_type": "code",
   "execution_count": null,
   "metadata": {},
   "outputs": [],
   "source": [
    "# Get model grads and norms for Timm ViT-S\n",
    "layers = model.get_layers()\n",
    "\n",
    "for name, layer in layers:\n",
    "    norms_squared = [np.linalg.norm(p.data.detach().cpu().numpy()) ** 2 for p in layer.parameters()]\n",
    "    norm = np.sqrt(np.sum(norms_squared))\n",
    "    print(name, norm)"
   ]
  },
  {
   "cell_type": "code",
   "execution_count": null,
   "metadata": {},
   "outputs": [],
   "source": [
    "# Conv-next\n",
    "model = timm_model.TimmModel('convnext_base_in22k')\n",
    "get_layers_freeze_test(model)"
   ]
  },
  {
   "cell_type": "code",
   "execution_count": null,
   "metadata": {},
   "outputs": [],
   "source": [
    "x = torch.zeros((8,3,224,224))\n",
    "x = x.cuda()\n",
    "model(x)"
   ]
  },
  {
   "cell_type": "code",
   "execution_count": null,
   "metadata": {},
   "outputs": [],
   "source": [
    "print(model._model.head)"
   ]
  },
  {
   "cell_type": "markdown",
   "metadata": {},
   "source": [
    "# Supervised ResNet"
   ]
  },
  {
   "cell_type": "code",
   "execution_count": null,
   "metadata": {},
   "outputs": [],
   "source": [
    "model = imnet_resnet.ResNet50(pretrained=True)"
   ]
  },
  {
   "cell_type": "code",
   "execution_count": null,
   "metadata": {},
   "outputs": [],
   "source": [
    "model.get_layers()"
   ]
  },
  {
   "cell_type": "markdown",
   "metadata": {},
   "source": [
    "# Load Suriya's models"
   ]
  },
  {
   "cell_type": "code",
   "execution_count": 3,
   "metadata": {},
   "outputs": [],
   "source": [
    "checkpoint_path='/u/scr/ananya/simclr_weights/imagenet_BiT_R50x1_b256x16m_opt_adamw_aug_sa_cg_1_ep_90_lr_0.001_norm_gn_se_1857_wd_0.1/lastepoch.pt'\n",
    "model = suriya_bit_resnet.BitResNet50Wrapper(checkpoint_path)"
   ]
  },
  {
   "cell_type": "code",
   "execution_count": null,
   "metadata": {},
   "outputs": [],
   "source": []
  }
 ],
 "metadata": {
  "kernelspec": {
   "display_name": "Python 3",
   "language": "python",
   "name": "python3"
  },
  "language_info": {
   "codemirror_mode": {
    "name": "ipython",
    "version": 3
   },
   "file_extension": ".py",
   "mimetype": "text/x-python",
   "name": "python",
   "nbconvert_exporter": "python",
   "pygments_lexer": "ipython3",
   "version": "3.6.13"
  }
 },
 "nbformat": 4,
 "nbformat_minor": 4
}
